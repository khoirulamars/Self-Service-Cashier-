{
 "cells": [
  {
   "cell_type": "code",
   "execution_count": 188,
   "metadata": {},
   "outputs": [],
   "source": [
    "from main import *"
   ]
  },
  {
   "attachments": {},
   "cell_type": "markdown",
   "metadata": {},
   "source": [
    "### Membuat ID transaksi customer"
   ]
  },
  {
   "cell_type": "code",
   "execution_count": 189,
   "metadata": {},
   "outputs": [],
   "source": [
    "trnsct_123 = Transaction()"
   ]
  },
  {
   "attachments": {},
   "cell_type": "markdown",
   "metadata": {},
   "source": [
    "### Menambahkan barang belanjaan menggunakan method add_item dari module main.py"
   ]
  },
  {
   "cell_type": "code",
   "execution_count": 190,
   "metadata": {},
   "outputs": [
    {
     "name": "stdout",
     "output_type": "stream",
     "text": [
      "Item yang dibeli adalah Ayam sebanyak 3 dengan harga Rp 20000 \n",
      "\n",
      "  Nama Item  Qty  Harga per item  Total harga item\n",
      "1      Ayam    3           20000             60000\n"
     ]
    }
   ],
   "source": [
    "trnsct_123.add_item(\"Ayam\", 3, 20_000)"
   ]
  },
  {
   "cell_type": "code",
   "execution_count": 191,
   "metadata": {},
   "outputs": [
    {
     "name": "stdout",
     "output_type": "stream",
     "text": [
      "Item yang dibeli adalah Bakso sebanyak 5 dengan harga Rp 15000 \n",
      "\n",
      "  Nama Item  Qty  Harga per item  Total harga item\n",
      "1      Ayam    3           20000             60000\n",
      "2     Bakso    5           15000             75000\n"
     ]
    }
   ],
   "source": [
    "trnsct_123.add_item(\"Bakso\", 5, 15_000)"
   ]
  },
  {
   "cell_type": "code",
   "execution_count": 192,
   "metadata": {},
   "outputs": [
    {
     "name": "stdout",
     "output_type": "stream",
     "text": [
      "Item yang dibeli adalah Sate sebanyak 3 dengan harga Rp 25000 \n",
      "\n",
      "  Nama Item  Qty  Harga per item  Total harga item\n",
      "1      Ayam    3           20000             60000\n",
      "2     Bakso    5           15000             75000\n",
      "3      Sate    3           25000             75000\n"
     ]
    }
   ],
   "source": [
    "trnsct_123.add_item(\"Sate\", 3, 25_000)"
   ]
  },
  {
   "attachments": {},
   "cell_type": "markdown",
   "metadata": {},
   "source": [
    "### Contoh kasus jika ingin update nama barang, jumlah atau harga"
   ]
  },
  {
   "cell_type": "code",
   "execution_count": 193,
   "metadata": {},
   "outputs": [
    {
     "name": "stdout",
     "output_type": "stream",
     "text": [
      "  Nama Item  Qty  Harga per item  Total harga item\n",
      "1     Bakso    5           15000             75000\n",
      "2      Sate    3           25000             75000\n",
      "3  Mie Ayam    3           20000             60000\n"
     ]
    }
   ],
   "source": [
    "trnsct_123.update_item_name(\"Ayam\", \"Mie Ayam\")"
   ]
  },
  {
   "cell_type": "code",
   "execution_count": 194,
   "metadata": {},
   "outputs": [
    {
     "name": "stdout",
     "output_type": "stream",
     "text": [
      "  Nama Item  Qty  Harga per item  Total harga item\n",
      "1     Bakso   10           15000            150000\n",
      "2      Sate    3           25000             75000\n",
      "3  Mie Ayam    3           20000             60000\n"
     ]
    }
   ],
   "source": [
    "trnsct_123.update_item_qty(\"Bakso\", 10)"
   ]
  },
  {
   "cell_type": "code",
   "execution_count": 195,
   "metadata": {},
   "outputs": [
    {
     "name": "stdout",
     "output_type": "stream",
     "text": [
      "  Nama Item  Qty  Harga per item  Total harga item\n",
      "1     Bakso   10           15000            150000\n",
      "2      Sate    3           30000             90000\n",
      "3  Mie Ayam    3           20000             60000\n"
     ]
    }
   ],
   "source": [
    "trnsct_123.update_item_price(\"Sate\", 30_000)"
   ]
  },
  {
   "attachments": {},
   "cell_type": "markdown",
   "metadata": {},
   "source": [
    "### Delete "
   ]
  },
  {
   "attachments": {},
   "cell_type": "markdown",
   "metadata": {},
   "source": [
    "Salah satu item"
   ]
  },
  {
   "cell_type": "code",
   "execution_count": 196,
   "metadata": {},
   "outputs": [
    {
     "name": "stdout",
     "output_type": "stream",
     "text": [
      "  Nama Item  Qty  Harga per item  Total harga item\n",
      "1     Bakso   10           15000            150000\n",
      "2  Mie Ayam    3           20000             60000\n"
     ]
    }
   ],
   "source": [
    "trnsct_123.delete_item(\"Sate\")"
   ]
  },
  {
   "attachments": {},
   "cell_type": "markdown",
   "metadata": {},
   "source": [
    "Hapus semua transaksi"
   ]
  },
  {
   "cell_type": "code",
   "execution_count": 197,
   "metadata": {},
   "outputs": [
    {
     "name": "stdout",
     "output_type": "stream",
     "text": [
      "Semua item berhasil didelete!\n"
     ]
    }
   ],
   "source": [
    "trnsct_123.reset_transaction()"
   ]
  },
  {
   "attachments": {},
   "cell_type": "markdown",
   "metadata": {},
   "source": [
    "### Cek order"
   ]
  },
  {
   "cell_type": "code",
   "execution_count": 198,
   "metadata": {},
   "outputs": [],
   "source": [
    "trnsct_123 = Transaction()"
   ]
  },
  {
   "cell_type": "code",
   "execution_count": 199,
   "metadata": {},
   "outputs": [
    {
     "name": "stdout",
     "output_type": "stream",
     "text": [
      "Item yang dibeli adalah Ayam sebanyak 3 dengan harga Rp 20000 \n",
      "\n",
      "  Nama Item  Qty  Harga per item  Total harga item\n",
      "1      Ayam    3           20000             60000\n",
      "Item yang dibeli adalah Bakso sebanyak 5 dengan harga Rp 15000 \n",
      "\n",
      "  Nama Item  Qty  Harga per item  Total harga item\n",
      "1      Ayam    3           20000             60000\n",
      "2     Bakso    5           15000             75000\n",
      "Item yang dibeli adalah Sate sebanyak 3 dengan harga Rp 25000 \n",
      "\n",
      "  Nama Item  Qty  Harga per item  Total harga item\n",
      "1      Ayam    3           20000             60000\n",
      "2     Bakso    5           15000             75000\n",
      "3      Sate    3           25000             75000\n"
     ]
    }
   ],
   "source": [
    "trnsct_123.add_item(\"Ayam\", 3, 20_000)\n",
    "trnsct_123.add_item(\"Bakso\", 5, 15_000)\n",
    "trnsct_123.add_item(\"Sate\", 3, 25_000)"
   ]
  },
  {
   "cell_type": "code",
   "execution_count": 200,
   "metadata": {},
   "outputs": [
    {
     "name": "stdout",
     "output_type": "stream",
     "text": [
      "  Nama Item  Qty  Harga per item  Total harga item\n",
      "1      Ayam    3           20000             60000\n",
      "2     Bakso    5           15000             75000\n",
      "3      Sate    3           25000             75000\n"
     ]
    }
   ],
   "source": [
    "trnsct_123.check_order()"
   ]
  },
  {
   "attachments": {},
   "cell_type": "markdown",
   "metadata": {},
   "source": [
    "### Total Harga"
   ]
  },
  {
   "cell_type": "code",
   "execution_count": 201,
   "metadata": {},
   "outputs": [
    {
     "name": "stdout",
     "output_type": "stream",
     "text": [
      "  Nama Item  Qty  Harga per item  Total harga item\n",
      "1      Ayam    3           20000             60000\n",
      "2     Bakso    5           15000             75000\n",
      "3      Sate    3           25000             75000\n",
      "\n",
      "HARGA: Rp 210000\n",
      "DISKON: 5%\n",
      "TOTAL: Rp 199500.0\n"
     ]
    }
   ],
   "source": [
    "trnsct_123.total_price_print()"
   ]
  }
 ],
 "metadata": {
  "kernelspec": {
   "display_name": "Python 3",
   "language": "python",
   "name": "python3"
  },
  "language_info": {
   "codemirror_mode": {
    "name": "ipython",
    "version": 3
   },
   "file_extension": ".py",
   "mimetype": "text/x-python",
   "name": "python",
   "nbconvert_exporter": "python",
   "pygments_lexer": "ipython3",
   "version": "3.11.2"
  },
  "orig_nbformat": 4
 },
 "nbformat": 4,
 "nbformat_minor": 2
}
